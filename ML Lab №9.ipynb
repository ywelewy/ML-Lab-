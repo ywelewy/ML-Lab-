{
 "cells": [
  {
   "cell_type": "markdown",
   "metadata": {},
   "source": [
    "1. Загрузите файл classification.csv. В нем записаны истинные классы\n",
    "объектов выборки (колонка true) и ответы некоторого классификатора (колонка predicted)."
   ]
  },
  {
   "cell_type": "code",
   "execution_count": 28,
   "metadata": {},
   "outputs": [
    {
     "data": {
      "text/html": [
       "<div>\n",
       "<style scoped>\n",
       "    .dataframe tbody tr th:only-of-type {\n",
       "        vertical-align: middle;\n",
       "    }\n",
       "\n",
       "    .dataframe tbody tr th {\n",
       "        vertical-align: top;\n",
       "    }\n",
       "\n",
       "    .dataframe thead th {\n",
       "        text-align: right;\n",
       "    }\n",
       "</style>\n",
       "<table border=\"1\" class=\"dataframe\">\n",
       "  <thead>\n",
       "    <tr style=\"text-align: right;\">\n",
       "      <th></th>\n",
       "      <th>true</th>\n",
       "      <th>pred</th>\n",
       "    </tr>\n",
       "  </thead>\n",
       "  <tbody>\n",
       "    <tr>\n",
       "      <th>0</th>\n",
       "      <td>1</td>\n",
       "      <td>0</td>\n",
       "    </tr>\n",
       "    <tr>\n",
       "      <th>1</th>\n",
       "      <td>1</td>\n",
       "      <td>1</td>\n",
       "    </tr>\n",
       "    <tr>\n",
       "      <th>2</th>\n",
       "      <td>1</td>\n",
       "      <td>1</td>\n",
       "    </tr>\n",
       "    <tr>\n",
       "      <th>3</th>\n",
       "      <td>0</td>\n",
       "      <td>0</td>\n",
       "    </tr>\n",
       "    <tr>\n",
       "      <th>4</th>\n",
       "      <td>1</td>\n",
       "      <td>1</td>\n",
       "    </tr>\n",
       "  </tbody>\n",
       "</table>\n",
       "</div>"
      ],
      "text/plain": [
       "   true  pred\n",
       "0     1     0\n",
       "1     1     1\n",
       "2     1     1\n",
       "3     0     0\n",
       "4     1     1"
      ]
     },
     "execution_count": 28,
     "metadata": {},
     "output_type": "execute_result"
    }
   ],
   "source": [
    "import pandas as pd \n",
    "import numpy as np \n",
    "\n",
    "data = pd.read_csv(r\"C:\\Users\\USER\\Desktop\\ML\\ML_intro\\09-statement-metrics\\classification.csv\")\n",
    "data.head()"
   ]
  },
  {
   "cell_type": "markdown",
   "metadata": {},
   "source": [
    "2.  Заполните таблицу ошибок классификации. Для этого подсчитайте величины TP, FP, FN и TN согласно их\n",
    "определениям. Например, FP — это количество объектов, имеющих\n",
    "класс 0, но отнесенных алгоритмом к классу 1. Ответ в данном\n",
    "вопросе — четыре числа через пробел."
   ]
  },
  {
   "cell_type": "code",
   "execution_count": 29,
   "metadata": {},
   "outputs": [
    {
     "name": "stdout",
     "output_type": "stream",
     "text": [
      "{'TP': 43, 'FP': 34, 'FN': 64, 'TN': 59}\n"
     ]
    }
   ],
   "source": [
    "TP, FP, FN, TN = 0, 0, 0, 0\n",
    "for index, row in data.iterrows():\n",
    "    if row['true'] == 1 and row['pred'] == 1:\n",
    "        TP += 1\n",
    "    if row['true'] == 1 and row['pred'] == 0:\n",
    "        TN += 1\n",
    "    if row['true'] == 0 and row['pred'] == 1:\n",
    "        FP += 1\n",
    "    if row['true'] == 0 and row['pred'] == 0:\n",
    "        FN += 1\n",
    "print({'TP': TP, 'FP': FP, 'FN': FN, 'TN': TN})\n",
    "    "
   ]
  },
  {
   "cell_type": "markdown",
   "metadata": {},
   "source": [
    "3. Посчитайте основные метрики качества классификатора:\n",
    "• Accuracy (доля верно угаданных) — sklearn.metrics.accuracy\n",
    "• Precision (точность) — sklearn.metrics.accuracy.precision_score\n",
    "• Recall (полнота) — sklearn.metrics.recall_score\n",
    "• F-мера — sklearn.metrics.f1_score"
   ]
  },
  {
   "cell_type": "code",
   "execution_count": 30,
   "metadata": {},
   "outputs": [
    {
     "name": "stdout",
     "output_type": "stream",
     "text": [
      "Доля верно угаданных: 0.54\n",
      "Точность: 0.56\n",
      "Полнота: 0.42\n",
      "F - мера: 0.48\n"
     ]
    }
   ],
   "source": [
    "from sklearn.metrics import accuracy_score, precision_score, recall_score, f1_score\n",
    "\n",
    "X = data['true']\n",
    "y = data['pred']\n",
    "\n",
    "print(f'Доля верно угаданных: {round(accuracy_score(X, y), 2)}')\n",
    "print(f'Точность: {round(precision_score(X, y), 2)}')\n",
    "print(f'Полнота: {round(recall_score(X, y), 2)}')\n",
    "print(f'F - мера: {round(f1_score(X, y), 2)}')\n",
    "\n"
   ]
  },
  {
   "cell_type": "markdown",
   "metadata": {},
   "source": [
    "4. Имеется четыре обученных классификатора. В файле scores.csv записаны истинные классы и значения степени принадлежности положительному классу для каждого классификатора на некоторой\n",
    "выборке:"
   ]
  },
  {
   "cell_type": "code",
   "execution_count": 31,
   "metadata": {},
   "outputs": [
    {
     "data": {
      "text/html": [
       "<div>\n",
       "<style scoped>\n",
       "    .dataframe tbody tr th:only-of-type {\n",
       "        vertical-align: middle;\n",
       "    }\n",
       "\n",
       "    .dataframe tbody tr th {\n",
       "        vertical-align: top;\n",
       "    }\n",
       "\n",
       "    .dataframe thead th {\n",
       "        text-align: right;\n",
       "    }\n",
       "</style>\n",
       "<table border=\"1\" class=\"dataframe\">\n",
       "  <thead>\n",
       "    <tr style=\"text-align: right;\">\n",
       "      <th></th>\n",
       "      <th>true</th>\n",
       "      <th>score_logreg</th>\n",
       "      <th>score_svm</th>\n",
       "      <th>score_knn</th>\n",
       "      <th>score_tree</th>\n",
       "    </tr>\n",
       "  </thead>\n",
       "  <tbody>\n",
       "    <tr>\n",
       "      <th>0</th>\n",
       "      <td>0</td>\n",
       "      <td>0.683832</td>\n",
       "      <td>0.145976</td>\n",
       "      <td>0.787063</td>\n",
       "      <td>0.500000</td>\n",
       "    </tr>\n",
       "    <tr>\n",
       "      <th>1</th>\n",
       "      <td>1</td>\n",
       "      <td>0.801966</td>\n",
       "      <td>0.239511</td>\n",
       "      <td>1.000000</td>\n",
       "      <td>0.833333</td>\n",
       "    </tr>\n",
       "    <tr>\n",
       "      <th>2</th>\n",
       "      <td>0</td>\n",
       "      <td>0.382315</td>\n",
       "      <td>-0.245701</td>\n",
       "      <td>0.000000</td>\n",
       "      <td>0.000000</td>\n",
       "    </tr>\n",
       "    <tr>\n",
       "      <th>3</th>\n",
       "      <td>1</td>\n",
       "      <td>0.506797</td>\n",
       "      <td>-0.137058</td>\n",
       "      <td>0.000000</td>\n",
       "      <td>0.105263</td>\n",
       "    </tr>\n",
       "    <tr>\n",
       "      <th>4</th>\n",
       "      <td>1</td>\n",
       "      <td>0.488781</td>\n",
       "      <td>-0.154148</td>\n",
       "      <td>0.000000</td>\n",
       "      <td>0.105263</td>\n",
       "    </tr>\n",
       "  </tbody>\n",
       "</table>\n",
       "</div>"
      ],
      "text/plain": [
       "   true  score_logreg  score_svm  score_knn  score_tree\n",
       "0     0      0.683832   0.145976   0.787063    0.500000\n",
       "1     1      0.801966   0.239511   1.000000    0.833333\n",
       "2     0      0.382315  -0.245701   0.000000    0.000000\n",
       "3     1      0.506797  -0.137058   0.000000    0.105263\n",
       "4     1      0.488781  -0.154148   0.000000    0.105263"
      ]
     },
     "execution_count": 31,
     "metadata": {},
     "output_type": "execute_result"
    }
   ],
   "source": [
    "data2 = pd.read_csv(r\"C:\\Users\\USER\\Desktop\\ML\\ML_intro\\09-statement-metrics\\scores.csv\")\n",
    "data2.head()\n"
   ]
  },
  {
   "cell_type": "markdown",
   "metadata": {},
   "source": [
    "5. Посчитайте площадь под ROC-кривой для каждого классификатора. Какой классификатор имеет наибольшее значение метрики\n",
    "AUC-ROC (укажите название столбца с ответами этого классификатора)? Воспользуйтесь функцией sklearn.metrics.roc_auc_score.\n"
   ]
  },
  {
   "cell_type": "code",
   "execution_count": 32,
   "metadata": {},
   "outputs": [
    {
     "name": "stdout",
     "output_type": "stream",
     "text": [
      "Площадь ROC-кривой для Логистической регрессии: 0.72\n",
      "Площадь ROC-кривой для SVM: 0.71\n",
      "Площадь ROC-кривой для метрического алгоритма: 0.64\n",
      "Площадь ROC-кривой для решающего дерева: 0.69\n"
     ]
    }
   ],
   "source": [
    "from sklearn.metrics import roc_auc_score\n",
    "\n",
    "print(f\"Площадь ROC-кривой для Логистической регрессии: {round(roc_auc_score(data2['true'], data2['score_logreg']), 2)}\")\n",
    "print(f\"Площадь ROC-кривой для SVM: {round(roc_auc_score(data2['true'], data2['score_svm']), 2)}\")\n",
    "print(f\"Площадь ROC-кривой для метрического алгоритма: {round(roc_auc_score(data2['true'], data2['score_knn']), 2)}\")\n",
    "print(f\"Площадь ROC-кривой для решающего дерева: {round(roc_auc_score(data2['true'], data2['score_tree']), 2)}\")"
   ]
  },
  {
   "cell_type": "markdown",
   "metadata": {},
   "source": [
    "6. Какой классификатор достигает наибольшей точности (Precision)\n",
    "при полноте (Recall) не менее 70% (укажите название столбца с ответами этого классификатора)? Какое значение точности при этом\n",
    "получается?"
   ]
  },
  {
   "cell_type": "code",
   "execution_count": 33,
   "metadata": {},
   "outputs": [
    {
     "name": "stdout",
     "output_type": "stream",
     "text": [
      "Наибольшая точность логистической регрессии: 0.62\n",
      "Наибольшая точность для SVM: 0.62\n",
      "Наибольшая точность для метрического алгоритма: 0.59\n",
      "Наибольшая точность для решающего дерева: 0.65\n"
     ]
    }
   ],
   "source": [
    "from sklearn.metrics import precision_recall_curve\n",
    "s = []\n",
    "for i in ['score_logreg','score_svm','score_knn','score_tree']:\n",
    "    s.append(precision_recall_curve(data2['true'], data2[i]))\n",
    "precision_best = []\n",
    "for j in s:\n",
    "    max = 0 \n",
    "    for x in  range(len(j[1])):\n",
    "        if j[1][x] >= 0.7:\n",
    "            max = j[0][x]\n",
    "    precision_best.append(max)\n",
    "print(f\"Наибольшая точность логистической регрессии: {round(precision_best[0], 2)}\")\n",
    "print(f\"Наибольшая точность для SVM: {round(precision_best[1], 2)}\")\n",
    "print(f\"Наибольшая точность для метрического алгоритма: {round(precision_best[2], 2)}\")\n",
    "print(f\"Наибольшая точность для решающего дерева: {round(precision_best[3], 2)}\")\n",
    "        \n",
    "        \n",
    "\n"
   ]
  }
 ],
 "metadata": {
  "kernelspec": {
   "display_name": "Python 3",
   "language": "python",
   "name": "python3"
  },
  "language_info": {
   "codemirror_mode": {
    "name": "ipython",
    "version": 3
   },
   "file_extension": ".py",
   "mimetype": "text/x-python",
   "name": "python",
   "nbconvert_exporter": "python",
   "pygments_lexer": "ipython3",
   "version": "3.8.2"
  }
 },
 "nbformat": 4,
 "nbformat_minor": 2
}
