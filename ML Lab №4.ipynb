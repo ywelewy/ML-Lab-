{
 "cells": [
  {
   "cell_type": "markdown",
   "metadata": {},
   "source": [
    "Лабораторная работа №4"
   ]
  },
  {
   "cell_type": "markdown",
   "metadata": {},
   "source": [
    "1. Загрузите выборку Boston с помощью функции sklearn.datasets.load_boston().\n",
    "Результатом вызова данной функции является объект, у которого\n",
    "признаки записаны в поле data, а целевой вектор — в поле target.\n"
   ]
  },
  {
   "cell_type": "code",
   "execution_count": 70,
   "metadata": {},
   "outputs": [],
   "source": [
    "import pandas as pd\n",
    "\n",
    "data = pd.read_csv(r\"C:\\Users\\USER\\Desktop\\Матстат\\BostonHousing.csv\")\n",
    "\n",
    "X = data.loc[:, 'crim':'lstat']\n",
    "y = data['medv']\n",
    "\n"
   ]
  },
  {
   "cell_type": "markdown",
   "metadata": {},
   "source": [
    "2. Приведите признаки в выборке к одному масштабу при помощи\n",
    "функции sklearn.preprocessing.scale."
   ]
  },
  {
   "cell_type": "code",
   "execution_count": 71,
   "metadata": {},
   "outputs": [],
   "source": [
    "from sklearn.preprocessing import scale \n",
    "\n",
    "X = scale(X)\n"
   ]
  },
  {
   "cell_type": "markdown",
   "metadata": {},
   "source": [
    "3. Переберите разные варианты параметра метрики p по сетке от 1 до\n",
    "10 с таким шагом, чтобы всего было протестировано 200 вариантов\n",
    "(используйте функцию numpy.linspace). Используйте KNeighborsRegressor\n",
    "с n_neighbors=5 и weights=’distance’ — данный параметр добавляет\n",
    "в алгоритм веса, зависящие от расстояния до ближайших соседей. В\n",
    "качестве метрики качества используйте среднеквадратичную ошибку (параметр scoring=’mean_squared_error’ у cross_val_score; при\n",
    "использовании библиотеки scikit-learn версии 18.0.1 и выше необходимо указывать scoring=’neg_mean_squared_error’). Качество оценивайте, как и в предыдущем задании, с помощью кросс-валидации\n",
    "по 5 блокам с random_state = 42, не забудьте включить перемешивание выборки (shuffle=True)."
   ]
  },
  {
   "cell_type": "code",
   "execution_count": 72,
   "metadata": {},
   "outputs": [],
   "source": [
    "from sklearn.neighbors import KNeighborsRegressor\n",
    "from sklearn.model_selection import cross_val_score\n",
    "from sklearn.model_selection import KFold\n",
    "import numpy as np\n",
    "\n",
    "kf = KFold(n_splits=5, random_state=42, shuffle=True)\n",
    "\n",
    "result = []\n",
    "for p in np.linspace(1, 10, 200):\n",
    "    model = KNeighborsRegressor(n_neighbors=5, weights='distance', p=p)\n",
    "    score = cross_val_score(model, X, y, cv = kf, scoring='neg_mean_squared_error')\n",
    "    result.append([p, score])\n",
    "\n"
   ]
  },
  {
   "cell_type": "markdown",
   "metadata": {},
   "source": [
    "4. Определите, при каком p качество на кросс-валидации оказалось\n",
    "оптимальным. Обратите внимание, что cross_val_score возвраща\n",
    "ет массив показателей качества по блокам; необходимо максимизировать среднее этих показателей. Это значение параметра и будет\n",
    "ответом на задачу"
   ]
  },
  {
   "cell_type": "code",
   "execution_count": 73,
   "metadata": {},
   "outputs": [
    {
     "name": "stdout",
     "output_type": "stream",
     "text": [
      "1.0 -16.030646734221644\n"
     ]
    }
   ],
   "source": [
    "best = -10000000000\n",
    "best_p = 0\n",
    "\n",
    "for sc in result:\n",
    "    if np.mean(sc[1]) > best:\n",
    "        best = np.mean(sc[1])\n",
    "        best_p = sc[0]\n",
    "print(best_p, best)\n"
   ]
  }
 ],
 "metadata": {
  "kernelspec": {
   "display_name": "Python 3",
   "language": "python",
   "name": "python3"
  },
  "language_info": {
   "codemirror_mode": {
    "name": "ipython",
    "version": 3
   },
   "file_extension": ".py",
   "mimetype": "text/x-python",
   "name": "python",
   "nbconvert_exporter": "python",
   "pygments_lexer": "ipython3",
   "version": "3.8.2"
  }
 },
 "nbformat": 4,
 "nbformat_minor": 2
}
