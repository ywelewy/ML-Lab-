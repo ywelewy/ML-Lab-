{
 "cells": [
  {
   "cell_type": "markdown",
   "metadata": {},
   "source": [
    "Лабораторная работа №8"
   ]
  },
  {
   "cell_type": "markdown",
   "metadata": {},
   "source": [
    "1. Загрузите данные из файла data-logistic.csv. Это двумерная выборка, целевая переменная на которой принимает значения -1 или 1"
   ]
  },
  {
   "cell_type": "code",
   "execution_count": 93,
   "metadata": {},
   "outputs": [],
   "source": [
    "import pandas \n",
    "import numpy \n",
    "\n",
    "data = pandas.read_csv(r\"C:\\Users\\USER\\Desktop\\ML_intro\\08-statement-logistic\\data-logistic.csv\", header=None)\n",
    "X = data.loc[:, 1:]\n",
    "y = data[0]\n",
    "\n"
   ]
  },
  {
   "cell_type": "markdown",
   "metadata": {},
   "source": [
    "2. Убедитесь, что выше выписаны правильные формулы для градиентного спуска. Обратите внимание, что мы используем полноценный градиентный спуск, а не его стохастический вариант!\n",
    "3. Реализуйте градиентный спуск для обычной и L2-регуляризованной\n",
    "(с коэффициентом регуляризации 10) логистической регрессии. Используйте длину шага k=0.1. В качестве начального приближения\n",
    "используйте вектор (0, 0)."
   ]
  },
  {
   "cell_type": "code",
   "execution_count": 94,
   "metadata": {},
   "outputs": [],
   "source": [
    "from sklearn.metrics import mean_squared_error as rms\n",
    "from sklearn.metrics import roc_auc_score\n",
    "\n",
    "\n",
    "k = 0.1\n",
    "\n",
    "\n",
    "def fw1(C, w1, w2):\n",
    "    changed_w1 = w1 + (k / len(y)) * sum(((y[i] * X[1][i]) * (1. - (1. / (1. + numpy.exp(- y[i] * (w1 * X[1][i] + w2 * X[2][i])))))) for i in range(0, len(y))) - k * C * w1\n",
    "    return changed_w1\n",
    "def fw2(C, w1, w2):\n",
    "    changed_w2 = w2 + (k / len(y)) * sum(((y[i] * X[2][i]) * (1. - (1. / (1. + numpy.exp(- y[i] * (w1 * X[1][i] + w2 * X[2][i])))))) for i in range(0, len(y))) - k * C * w2\n",
    "    return changed_w2\n",
    "def gradient_spusk(C):\n",
    "    changed_w1, changed_w2 = 0., 0.\n",
    "    s = 0\n",
    "    while s != 10000:\n",
    "        s += 1\n",
    "        w1, w2 = changed_w1, changed_w2\n",
    "        changed_w1 = fw1(C, w1, w2)\n",
    "        changed_w2 = fw2(C, w1, w2)\n",
    "        if numpy.sqrt(rms([w1, w2], [changed_w1, changed_w2])) <= 1e-5:\n",
    "            break\n",
    "    return changed_w1, changed_w2\n"
   ]
  },
  {
   "cell_type": "markdown",
   "metadata": {},
   "source": [
    "4. Запустите градиентный спуск и доведите до сходимости (евклидово расстояние между векторами весов на соседних итерациях должно быть не больше 1e-5). Рекомендуется ограничить сверху число итераций десятью тысячами."
   ]
  },
  {
   "cell_type": "code",
   "execution_count": 95,
   "metadata": {},
   "outputs": [
    {
     "name": "stdout",
     "output_type": "stream",
     "text": [
      "0.2876832512830598 0.09210201173422791 0.028558754546234223 0.024780137249735552\n"
     ]
    }
   ],
   "source": [
    "w1, w2 = gradient_spusk(0.)\n",
    "l2w1, l2w2 = gradient_spusk(10.)\n",
    "\n",
    "print(w1, w2, l2w1, l2w2)"
   ]
  },
  {
   "cell_type": "markdown",
   "metadata": {},
   "source": [
    "\n",
    "5. Какое значение принимает AUC-ROC на обучении без регуляризации и при ее использовании? Эти величины будут ответом на задание. В качестве ответа приведите два числа через пробел. Обратите внимание, что на вход функции roc_auc_score нужно подавать оценки вероятностей, подсчитанные обученным алгоритмом. Для этого воспользуйтесь сигмоидной функцией: a(x) = 1 / (1 + exp(-w1 x1 - w2 x2))."
   ]
  },
  {
   "cell_type": "code",
   "execution_count": 97,
   "metadata": {},
   "outputs": [
    {
     "name": "stdout",
     "output_type": "stream",
     "text": [
      "0.9268571428571428\n",
      "0.9362857142857142\n"
     ]
    }
   ],
   "source": [
    "def sigma(xi, w1, w2):\n",
    "    return 1. / (1 + numpy.exp(-w1 * xi[1] - w2 * xi[2]))\n",
    "scores = X.apply(lambda xi: sigma(xi, w1, w2), axis=1)\n",
    "l2scores = X.apply(lambda xi: sigma(xi, l2w1, l2w2), axis=1)\n",
    "\n",
    "auc_score = roc_auc_score(y, scores)\n",
    "l2_auc_score = roc_auc_score(y, l2scores)\n",
    "\n",
    "print(auc_score)\n",
    "print(l2_auc_score)\n",
    "\n"
   ]
  }
 ],
 "metadata": {
  "kernelspec": {
   "display_name": "Python 3",
   "language": "python",
   "name": "python3"
  },
  "language_info": {
   "codemirror_mode": {
    "name": "ipython",
    "version": 3
   },
   "file_extension": ".py",
   "mimetype": "text/x-python",
   "name": "python",
   "nbconvert_exporter": "python",
   "pygments_lexer": "ipython3",
   "version": "3.8.2"
  }
 },
 "nbformat": 4,
 "nbformat_minor": 2
}
